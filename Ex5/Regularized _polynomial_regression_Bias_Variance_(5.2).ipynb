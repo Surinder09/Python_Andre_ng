{
 "cells": [
  {
   "cell_type": "code",
   "execution_count": 72,
   "metadata": {},
   "outputs": [],
   "source": [
    "import pandas as pd\n",
    "import numpy as np\n",
    "import matplotlib.pyplot as plt\n",
    "import scipy.optimize as opt\n",
    "import scipy.io"
   ]
  },
  {
   "cell_type": "code",
   "execution_count": 73,
   "metadata": {},
   "outputs": [],
   "source": [
    "file=scipy.io.loadmat('D:/ML Andrew Ngs/Week6/machine-learning-ex5/ex5/ex5data1.mat')"
   ]
  },
  {
   "cell_type": "code",
   "execution_count": 74,
   "metadata": {},
   "outputs": [],
   "source": [
    "X=file['X']\n",
    "Y=file['y']\n",
    "Xval=file['Xval']\n",
    "Yval=file['yval']\n",
    "Xtest=file['Xtest'] # unseen X data\n",
    "Ytest=file['ytest'] # unseen Y data"
   ]
  },
  {
   "cell_type": "code",
   "execution_count": 75,
   "metadata": {},
   "outputs": [],
   "source": [
    "m,n=X.shape[0],X.shape[1]"
   ]
  },
  {
   "cell_type": "code",
   "execution_count": 76,
   "metadata": {},
   "outputs": [],
   "source": [
    "# visulalizing the data"
   ]
  },
  {
   "cell_type": "code",
   "execution_count": 77,
   "metadata": {},
   "outputs": [
    {
     "data": {
      "image/png": "[encoded data removed]",
      "text/plain": [
       "<Figure size 720x576 with 1 Axes>"
      ]
     },
     "metadata": {
      "needs_background": "light"
     },
     "output_type": "display_data"
    }
   ],
   "source": [
    "fig,ax=plt.subplots(figsize=(10,8))\n",
    "\n",
    "ax.scatter(X,Y,marker='x',c='red')\n",
    "ax.set_xlabel('Change in Water level')\n",
    "ax.set_ylabel('Water flowing out of the dam')\n",
    "\n",
    "ax.plot();"
   ]
  },
  {
   "cell_type": "code",
   "execution_count": 78,
   "metadata": {},
   "outputs": [],
   "source": [
    "ones=np.ones((m,1))\n",
    "X_new=np.hstack((ones,X))\n",
    "theta=np.ones((n+1,1))\n",
    "lamda=1"
   ]
  },
  {
   "cell_type": "code",
   "execution_count": 79,
   "metadata": {},
   "outputs": [],
   "source": [
    "def lrCostfunction(theta,X,Y,lamda):\n",
    "    '''Function will return regularized Cost function'''\n",
    "    h=np.dot(X,theta)\n",
    "    cost=1/(2*m)*np.sum((h - Y)**2)\n",
    "    J=cost+lamda/(2*m)*(np.sum(theta[1:]**2))\n",
    "    return(J)"
   ]
  },
  {
   "cell_type": "code",
   "execution_count": 80,
   "metadata": {},
   "outputs": [],
   "source": [
    "def lrGradient(theta,X,Y,lamda):\n",
    "    '''Function will return regularized Gradient'''\n",
    "    h=np.dot(X,theta)\n",
    "    err=h-Y\n",
    "    grad=np.zeros((2,1))\n",
    "    grad=(1/m)*(np.dot(X.T,err))\n",
    "    grad[1:]=grad[1:]+(lamda/(m))*(theta[1:])\n",
    "    return(grad)"
   ]
  },
  {
   "cell_type": "code",
   "execution_count": 81,
   "metadata": {},
   "outputs": [
    {
     "name": "stdout",
     "output_type": "stream",
     "text": [
      "Initial regularized cost is 303.9931922202643 and Gradient is [[-15.30301567]\n",
      " [598.25074417]]\n"
     ]
    }
   ],
   "source": [
    "int_cost=lrCostfunction(theta,X_new,Y,lamda)\n",
    "int_grad=lrGradient(theta,X_new,Y,lamda)\n",
    "print('Initial regularized cost is {} and Gradient is {}'.format(int_cost,int_grad))"
   ]
  },
  {
   "cell_type": "code",
   "execution_count": 82,
   "metadata": {},
   "outputs": [],
   "source": [
    "def trainLinearReg(in_theta,X,Y,lamda):\n",
    "    result = opt.fmin_tnc(func=lrCostfunction, x0=in_theta, fprime=lrGradient, args=(X,Y.flatten(),lamda))\n",
    "    return(result[0].reshape((X.shape[1],1)))"
   ]
  },
  {
   "cell_type": "code",
   "execution_count": 83,
   "metadata": {},
   "outputs": [
    {
     "name": "stdout",
     "output_type": "stream",
     "text": [
      "value of optimised theta is [[13.08771391]\n",
      " [ 0.36774199]]\n"
     ]
    }
   ],
   "source": [
    "optimised_theta=trainLinearReg(theta,X_new,Y,1)\n",
    "print(\"value of optimised theta is {}\".format(optimised_theta))"
   ]
  },
  {
   "cell_type": "code",
   "execution_count": 84,
   "metadata": {},
   "outputs": [],
   "source": [
    "# 2. Bias vs Variance"
   ]
  },
  {
   "cell_type": "code",
   "execution_count": 85,
   "metadata": {},
   "outputs": [],
   "source": [
    "val_ones=np.ones((Xval.shape[0],1))\n",
    "X_val=np.hstack((val_ones,Xval))"
   ]
  },
  {
   "cell_type": "code",
   "execution_count": 86,
   "metadata": {},
   "outputs": [],
   "source": [
    "def Learningcurve(X,Y,Xval,Yval,lamda):\n",
    "    train_err=[]\n",
    "    cv_err=[]\n",
    "    initial_theta=np.ones((X.shape[1],1))\n",
    "    for i in range(1,X.shape[0]+1):\n",
    "        theta_t=trainLinearReg(initial_theta,X[0:i,:],Y[0:i],lamda)\n",
    "        train_err.append(lrCostfunction(theta_t,X[0:i,:],Y[0:i],lamda))\n",
    "        cv_err.append(lrCostfunction(theta_t,Xval,Yval,lamda))\n",
    "    return(train_err,cv_err)"
   ]
  },
  {
   "cell_type": "code",
   "execution_count": 87,
   "metadata": {},
   "outputs": [],
   "source": [
    "# Polynomial features"
   ]
  },
  {
   "cell_type": "code",
   "execution_count": 88,
   "metadata": {},
   "outputs": [],
   "source": [
    "def polyFeatures(X,p):\n",
    "    '''Function returns adding polynomial features upto pth power'''\n",
    "    for po in range(2,p+1):\n",
    "        X=np.hstack((X,(X[:,0]**po).reshape((X.shape[0],1))))\n",
    "    return(X)"
   ]
  },
  {
   "cell_type": "code",
   "execution_count": 89,
   "metadata": {},
   "outputs": [],
   "source": [
    "X_poly=polyFeatures(X,8)"
   ]
  },
  {
   "cell_type": "code",
   "execution_count": 90,
   "metadata": {},
   "outputs": [],
   "source": [
    "from sklearn.preprocessing import StandardScaler\n",
    "scaler=StandardScaler()\n",
    "# Transforming the train set\n",
    "X_poly=scaler.fit_transform(X_poly)\n",
    "X_poly=np.hstack((np.ones((X_poly.shape[0],1)),X_poly))\n",
    "\n",
    "# Transforming the validation set\n",
    "X_poly_val=polyFeatures(Xval,8)\n",
    "X_poly_val=scaler.transform(X_poly_val)\n",
    "X_poly_val=np.hstack((np.ones((X_poly_val.shape[0],1)),X_poly_val))\n"
   ]
  },
  {
   "cell_type": "code",
   "execution_count": 91,
   "metadata": {},
   "outputs": [],
   "source": [
    "# Plotting the poly regression line"
   ]
  },
  {
   "cell_type": "code",
   "execution_count": 92,
   "metadata": {},
   "outputs": [
    {
     "data": {
      "image/png": "[encoded data removed]",
      "text/plain": [
       "<Figure size 720x576 with 1 Axes>"
      ]
     },
     "metadata": {
      "needs_background": "light"
     },
     "output_type": "display_data"
    }
   ],
   "source": [
    "theta_poly=trainLinearReg(np.zeros((X_poly.shape[1],1)),X_poly,Y,0) # lambda = 0\n",
    " \n",
    "fig,ax=plt.subplots(figsize=(10,8))\n",
    "\n",
    "seg=2500 # evenly spaces\n",
    "\n",
    "xx=np.linspace(-65,50,seg).reshape((seg,1))\n",
    "\n",
    "xx_poly_value=polyFeatures(xx,8)\n",
    "xx_poly_value=scaler.transform(xx_poly_value)\n",
    "xx_poly_value=np.hstack((np.ones((xx_poly_value.shape[0],1)),xx_poly_value))\n",
    "\n",
    "yy=np.dot(xx_poly_value,theta_poly)\n",
    "\n",
    "ax.scatter(X,Y,marker='x',c='red')\n",
    "ax.set_xlabel('Change in Water level')\n",
    "ax.set_ylabel('Water flowing out of the dam')\n",
    "\n",
    "ax.plot(xx,yy)\n",
    "plt.title(\"Lambda = 0\");"
   ]
  },
  {
   "cell_type": "code",
   "execution_count": 93,
   "metadata": {},
   "outputs": [],
   "source": [
    "# Plotting Learning curve"
   ]
  },
  {
   "cell_type": "code",
   "execution_count": 97,
   "metadata": {},
   "outputs": [],
   "source": [
    "err_train,err_cv=Learningcurve(X_poly,Y,X_poly_val,Yval,0)"
   ]
  },
  {
   "cell_type": "code",
   "execution_count": null,
   "metadata": {},
   "outputs": [],
   "source": []
  },
  {
   "cell_type": "code",
   "execution_count": 98,
   "metadata": {},
   "outputs": [
    {
     "data": {
      "image/png": "[encoded data removed]",
      "text/plain": [
       "<Figure size 576x360 with 1 Axes>"
      ]
     },
     "metadata": {
      "needs_background": "light"
     },
     "output_type": "display_data"
    }
   ],
   "source": [
    "mym=list(range(12))\n",
    "plt.figure(figsize=(8,5))\n",
    "plt.plot(mym,err_train,label='Train')\n",
    "plt.plot(mym,err_cv,label='Cross Validation')\n",
    "plt.legend()\n",
    "plt.title('Learning curve for linear regression')\n",
    "plt.xlabel('Number of training examples')\n",
    "plt.ylabel('Error')\n",
    "plt.grid(True)"
   ]
  },
  {
   "cell_type": "code",
   "execution_count": null,
   "metadata": {},
   "outputs": [],
   "source": []
  },
  {
   "cell_type": "code",
   "execution_count": null,
   "metadata": {},
   "outputs": [],
   "source": []
  }
 ],
 "metadata": {
  "kernelspec": {
   "display_name": "Python 3",
   "language": "python",
   "name": "python3"
  },
  "language_info": {
   "codemirror_mode": {
    "name": "ipython",
    "version": 3
   },
   "file_extension": ".py",
   "mimetype": "text/x-python",
   "name": "python",
   "nbconvert_exporter": "python",
   "pygments_lexer": "ipython3",
   "version": "3.7.3"
  }
 },
 "nbformat": 4,
 "nbformat_minor": 2
}
